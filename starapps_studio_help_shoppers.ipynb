{
 "cells": [
  {
   "cell_type": "code",
   "execution_count": null,
   "id": "bf6dced7",
   "metadata": {},
   "outputs": [],
   "source": [
    "import requests\n",
    "from bs4 import BeautifulSoup\n",
    "import json\n",
    "\n",
    "def FindAllGroups(store_domain):\n",
    "    product_links = []\n",
    "    product_groups = []\n",
    "\n",
    "    # Send a request to the store's website and get its HTML content\n",
    "    r = requests.get(store_domain)\n",
    "    soup = BeautifulSoup(r.content, 'html.parser')\n",
    "\n",
    "    # Find all the product links in the website\n",
    "    for link in soup.find_all('a', href=True):\n",
    "        href = link['href']\n",
    "        if 'product' in href:\n",
    "            product_links.append(href)\n",
    "\n",
    "    # Group products based on their similarity\n",
    "    while len(product_links) > 0:\n",
    "        product_group = [product_links[0]]\n",
    "        product_links.pop(0)\n",
    "        for link in product_links:\n",
    "            # Compare the products' names to check if they are variations of each other\n",
    "            if link.split('/')[-2] == product_group[0].split('/')[-2]:\n",
    "                product_group.append(link)\n",
    "                product_links.remove(link)\n",
    "        # Add the product group to the list of groups\n",
    "        if len(product_group) > 1:\n",
    "            product_groups.append({\"product variations\":product_group})\n",
    "\n",
    "    # Return the groups in JSON format\n",
    "    return json.dumps(product_groups)\n",
    "\n",
    "store_domain = 'https://berkehome.pl/collections/all'\n",
    "product_groups = FindAllGroups(store_domain)\n",
    "print(product_groups)\n"
   ]
  }
 ],
 "metadata": {
  "kernelspec": {
   "display_name": "Python 3 (ipykernel)",
   "language": "python",
   "name": "python3"
  },
  "language_info": {
   "codemirror_mode": {
    "name": "ipython",
    "version": 3
   },
   "file_extension": ".py",
   "mimetype": "text/x-python",
   "name": "python",
   "nbconvert_exporter": "python",
   "pygments_lexer": "ipython3",
   "version": "3.9.12"
  }
 },
 "nbformat": 4,
 "nbformat_minor": 5
}
